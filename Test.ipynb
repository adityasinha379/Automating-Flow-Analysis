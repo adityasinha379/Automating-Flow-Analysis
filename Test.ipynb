{
 "cells": [
  {
   "cell_type": "code",
   "execution_count": 1,
   "metadata": {},
   "outputs": [
    {
     "data": {
      "text/html": [
       "<div>\n",
       "<style scoped>\n",
       "    .dataframe tbody tr th:only-of-type {\n",
       "        vertical-align: middle;\n",
       "    }\n",
       "\n",
       "    .dataframe tbody tr th {\n",
       "        vertical-align: top;\n",
       "    }\n",
       "\n",
       "    .dataframe thead th {\n",
       "        text-align: right;\n",
       "    }\n",
       "</style>\n",
       "<table border=\"1\" class=\"dataframe\">\n",
       "  <thead>\n",
       "    <tr style=\"text-align: right;\">\n",
       "      <th></th>\n",
       "      <th>PD1</th>\n",
       "      <th>GzmB</th>\n",
       "      <th>CD8a</th>\n",
       "      <th>CD103</th>\n",
       "      <th>CD56</th>\n",
       "      <th>CD25</th>\n",
       "      <th>CD4</th>\n",
       "      <th>CD19</th>\n",
       "      <th>CD49a</th>\n",
       "      <th>CD3</th>\n",
       "      <th>FoxP3</th>\n",
       "    </tr>\n",
       "  </thead>\n",
       "  <tbody>\n",
       "    <tr>\n",
       "      <th>0</th>\n",
       "      <td>1.760079</td>\n",
       "      <td>2.241769</td>\n",
       "      <td>0.447316</td>\n",
       "      <td>0.951417</td>\n",
       "      <td>1.085694</td>\n",
       "      <td>0.365136</td>\n",
       "      <td>1.159030</td>\n",
       "      <td>0.744424</td>\n",
       "      <td>1.756490</td>\n",
       "      <td>1.208541</td>\n",
       "      <td>0.897291</td>\n",
       "    </tr>\n",
       "    <tr>\n",
       "      <th>1</th>\n",
       "      <td>2.504053</td>\n",
       "      <td>1.743894</td>\n",
       "      <td>0.725944</td>\n",
       "      <td>1.063522</td>\n",
       "      <td>1.146853</td>\n",
       "      <td>0.924040</td>\n",
       "      <td>2.429543</td>\n",
       "      <td>1.594169</td>\n",
       "      <td>3.008561</td>\n",
       "      <td>1.925828</td>\n",
       "      <td>0.740108</td>\n",
       "    </tr>\n",
       "    <tr>\n",
       "      <th>2</th>\n",
       "      <td>1.171469</td>\n",
       "      <td>1.729824</td>\n",
       "      <td>0.942350</td>\n",
       "      <td>0.670537</td>\n",
       "      <td>1.141923</td>\n",
       "      <td>0.644870</td>\n",
       "      <td>0.998817</td>\n",
       "      <td>0.800615</td>\n",
       "      <td>1.419161</td>\n",
       "      <td>1.141207</td>\n",
       "      <td>0.937181</td>\n",
       "    </tr>\n",
       "    <tr>\n",
       "      <th>3</th>\n",
       "      <td>1.464891</td>\n",
       "      <td>1.908043</td>\n",
       "      <td>0.499899</td>\n",
       "      <td>0.927789</td>\n",
       "      <td>0.677614</td>\n",
       "      <td>1.049692</td>\n",
       "      <td>0.864599</td>\n",
       "      <td>0.746302</td>\n",
       "      <td>1.478173</td>\n",
       "      <td>1.268048</td>\n",
       "      <td>0.886642</td>\n",
       "    </tr>\n",
       "    <tr>\n",
       "      <th>4</th>\n",
       "      <td>1.989203</td>\n",
       "      <td>1.786417</td>\n",
       "      <td>0.857825</td>\n",
       "      <td>0.784642</td>\n",
       "      <td>0.617290</td>\n",
       "      <td>1.169930</td>\n",
       "      <td>0.363880</td>\n",
       "      <td>0.945732</td>\n",
       "      <td>1.475951</td>\n",
       "      <td>1.183369</td>\n",
       "      <td>0.803843</td>\n",
       "    </tr>\n",
       "  </tbody>\n",
       "</table>\n",
       "</div>"
      ],
      "text/plain": [
       "        PD1      GzmB      CD8a     CD103      CD56      CD25       CD4  \\\n",
       "0  1.760079  2.241769  0.447316  0.951417  1.085694  0.365136  1.159030   \n",
       "1  2.504053  1.743894  0.725944  1.063522  1.146853  0.924040  2.429543   \n",
       "2  1.171469  1.729824  0.942350  0.670537  1.141923  0.644870  0.998817   \n",
       "3  1.464891  1.908043  0.499899  0.927789  0.677614  1.049692  0.864599   \n",
       "4  1.989203  1.786417  0.857825  0.784642  0.617290  1.169930  0.363880   \n",
       "\n",
       "       CD19     CD49a       CD3     FoxP3  \n",
       "0  0.744424  1.756490  1.208541  0.897291  \n",
       "1  1.594169  3.008561  1.925828  0.740108  \n",
       "2  0.800615  1.419161  1.141207  0.937181  \n",
       "3  0.746302  1.478173  1.268048  0.886642  \n",
       "4  0.945732  1.475951  1.183369  0.803843  "
      ]
     },
     "execution_count": 1,
     "metadata": {},
     "output_type": "execute_result"
    }
   ],
   "source": [
    "import numpy as np\n",
    "import pandas as pd\n",
    "import time\n",
    "\n",
    "# read in transformed data\n",
    "d = pd.read_csv(\"temp.csv\")\n",
    "d.head()"
   ]
  },
  {
   "cell_type": "code",
   "execution_count": 34,
   "metadata": {},
   "outputs": [],
   "source": [
    "from sklearn.covariance import graphical_lasso\n",
    "import time\n",
    "\n",
    "def gaussian(X, mu, cov):\n",
    "    # calculates gaussian likelihood for all rows of X\n",
    "    [n,d] = X.shape\n",
    "    p = np.zeros(n)\n",
    "    X = X - mu\n",
    "    \n",
    "    for j in range(n):\n",
    "        p[j] = np.exp(-0.5*np.dot(X[j,], np.dot(np.linalg.inv(cov),X[j,])) )/(2*np.pi)**(d/2)/np.linalg.det(cov)**0.5\n",
    "    \n",
    "    return p\n",
    "\n",
    "\n",
    "# following along https://pdfs.semanticscholar.org/f1c3/e45b78d5b7614586ae86074cbbc90b061635.pdf\n",
    "def sgmm(X, k, lamda=0.001, iters = 100):\n",
    "    [n,p] = X.shape\n",
    "    \n",
    "    # random initialization\n",
    "    mu = 4*np.random.rand(k,p)      # all component means\n",
    "    cov = np.zeros((k,p,p))       # all component cov matrices\n",
    "    for j in range(k):\n",
    "        temp = np.random.rand(p)-0.5\n",
    "        cov[j,:,:] = np.outer(temp,temp)\n",
    "        np.fill_diagonal(cov[j,:,:],1)\n",
    "    pi = np.random.rand(k)         # all component priors\n",
    "    w = np.zeros((n,k))             # membership weight matrix\n",
    "    \n",
    "    obj = np.zeros((iters,k))\n",
    "    start = time.time()\n",
    "    \n",
    "    for cnt in range(iters):\n",
    "        # each iteration\n",
    "        for j in range(k):     # for each cluster\n",
    "            # 1. compute the required variables\n",
    "            w[:,j] = pi[j]*gaussian(X,mu[j,],cov[j,:,:])\n",
    "            mu[j,] = np.sum(w[:,j]*X.T,axis=1)/np.sum(w[:,j])\n",
    "            S = np.dot(w[:,j]*(X-mu[j,]).T,X-mu[j,])/np.sum(w[:,j])         # sample covariance\n",
    "            # 2. run graphical lasso w coordinate descent to find covariance matrix that maximizes penalized log-likelihood\n",
    "            # https://www.ncbi.nlm.nih.gov/pmc/articles/PMC3019769/pdf/kxm045.pdf\n",
    "            print(cnt*k+j+1)\n",
    "            [cov[j,:,:],_,costs] = graphical_lasso(S, lamda, cov_init = S + lamda*np.eye(p), mode='cd', max_iter=200, return_costs=True)\n",
    "            obj[cnt,j] = costs[-1][0]\n",
    "            # obj[cnt,j] = np.log(np.linalg.det(C)) - np.matrix.trace(np.dot(S,C)) - lamda*np.sum(np.abs(C))\n",
    "        # 3. update priors\n",
    "        pi = np.mean(w, axis=0)\n",
    "        \n",
    "    print('Total time: {} s'.format(time.time()-start))\n",
    "    return (mu, cov, p, obj)"
   ]
  },
  {
   "cell_type": "code",
   "execution_count": 35,
   "metadata": {
    "scrolled": true
   },
   "outputs": [
    {
     "name": "stdout",
     "output_type": "stream",
     "text": [
      "1\n",
      "2\n",
      "3\n",
      "4\n",
      "5\n",
      "6\n",
      "7\n"
     ]
    },
    {
     "name": "stderr",
     "output_type": "stream",
     "text": [
      "C:\\Users\\adity\\Anaconda3\\lib\\site-packages\\sklearn\\covariance\\graph_lasso_.py:265: ConvergenceWarning: graphical_lasso: did not converge after 200 iteration: dual gap: 1.236e-03\n",
      "  % (max_iter, d_gap), ConvergenceWarning)\n"
     ]
    },
    {
     "name": "stdout",
     "output_type": "stream",
     "text": [
      "8\n",
      "9\n",
      "10\n",
      "11\n",
      "12\n",
      "13\n",
      "14\n",
      "15\n",
      "16\n",
      "17\n",
      "18\n",
      "19\n",
      "20\n",
      "21\n",
      "22\n",
      "23\n",
      "24\n"
     ]
    },
    {
     "name": "stderr",
     "output_type": "stream",
     "text": [
      "C:\\Users\\adity\\Anaconda3\\lib\\site-packages\\sklearn\\covariance\\graph_lasso_.py:265: ConvergenceWarning: graphical_lasso: did not converge after 200 iteration: dual gap: 7.869e-04\n",
      "  % (max_iter, d_gap), ConvergenceWarning)\n"
     ]
    },
    {
     "name": "stdout",
     "output_type": "stream",
     "text": [
      "25\n",
      "26\n"
     ]
    },
    {
     "name": "stderr",
     "output_type": "stream",
     "text": [
      "C:\\Users\\adity\\Anaconda3\\lib\\site-packages\\sklearn\\covariance\\graph_lasso_.py:265: ConvergenceWarning: graphical_lasso: did not converge after 200 iteration: dual gap: 2.329e-02\n",
      "  % (max_iter, d_gap), ConvergenceWarning)\n"
     ]
    },
    {
     "name": "stdout",
     "output_type": "stream",
     "text": [
      "27\n",
      "28\n",
      "29\n",
      "30\n",
      "31\n",
      "32\n",
      "33\n",
      "34\n",
      "35\n",
      "36\n",
      "37\n",
      "38\n",
      "39\n",
      "40\n",
      "41\n",
      "42\n",
      "43\n",
      "44\n",
      "45\n",
      "46\n",
      "47\n",
      "48\n",
      "49\n",
      "50\n",
      "51\n",
      "52\n",
      "53\n",
      "54\n",
      "55\n",
      "56\n",
      "57\n",
      "58\n",
      "59\n",
      "60\n",
      "61\n",
      "62\n",
      "63\n",
      "64\n",
      "65\n",
      "66\n",
      "67\n",
      "68\n",
      "69\n",
      "70\n",
      "71\n",
      "72\n",
      "73\n",
      "74\n",
      "75\n",
      "76\n",
      "77\n",
      "78\n",
      "79\n",
      "80\n",
      "Total time: 1211.6683311462402 s\n"
     ]
    }
   ],
   "source": [
    "temp = sgmm(X=d.to_numpy(), k=8, lamda=0.001, iters = 10)"
   ]
  },
  {
   "cell_type": "code",
   "execution_count": 14,
   "metadata": {
    "scrolled": true
   },
   "outputs": [
    {
     "data": {
      "text/plain": [
       "array([[ 0.14040843,  0.06451202,  0.09836349,  0.0560468 ,  0.15734877,\n",
       "         0.15510414, -0.00980028,  0.12763507,  0.07923221,  0.06867938,\n",
       "         0.1668774 ],\n",
       "       [ 0.06451202,  0.07115515,  0.04464197,  0.04977936,  0.08442175,\n",
       "         0.0812483 ,  0.0265278 ,  0.06761845,  0.0771438 ,  0.03549034,\n",
       "         0.08265843],\n",
       "       [ 0.09836349,  0.04464197,  0.1488592 ,  0.03910967,  0.11626024,\n",
       "         0.11552657, -0.02395498,  0.09606145,  0.05124505,  0.05451044,\n",
       "         0.13073584],\n",
       "       [ 0.0560468 ,  0.04977936,  0.03910967,  0.08800881,  0.07235671,\n",
       "         0.0690452 ,  0.02543954,  0.05809679,  0.07026565,  0.03427382,\n",
       "         0.0713678 ],\n",
       "       [ 0.15734877,  0.08442175,  0.11626024,  0.07235671,  0.21184333,\n",
       "         0.19459721, -0.0055321 ,  0.15811935,  0.10540786,  0.08153451,\n",
       "         0.2034541 ],\n",
       "       [ 0.15510414,  0.0812483 ,  0.11552657,  0.0690452 ,  0.19459721,\n",
       "         0.20931182, -0.01065074,  0.15715098,  0.09896116,  0.08035927,\n",
       "         0.2014944 ],\n",
       "       [-0.00980028,  0.0265278 , -0.02395498,  0.02543954, -0.0055321 ,\n",
       "        -0.01065074,  0.13146628, -0.00600285,  0.06177382, -0.0031651 ,\n",
       "        -0.01953387],\n",
       "       [ 0.12763507,  0.06761845,  0.09606145,  0.05809679,  0.15811935,\n",
       "         0.15715098, -0.00600285,  0.15006198,  0.08464733,  0.06768858,\n",
       "         0.16741095],\n",
       "       [ 0.07923221,  0.0771438 ,  0.05124505,  0.07026565,  0.10540786,\n",
       "         0.09896116,  0.06177382,  0.08464733,  0.14887297,  0.04492795,\n",
       "         0.09974718],\n",
       "       [ 0.06867938,  0.03549034,  0.05451044,  0.03427382,  0.08153451,\n",
       "         0.08035927, -0.0031651 ,  0.06768858,  0.04492795,  0.05268675,\n",
       "         0.0886425 ],\n",
       "       [ 0.1668774 ,  0.08265843,  0.13073584,  0.0713678 ,  0.2034541 ,\n",
       "         0.2014944 , -0.01953387,  0.16741095,  0.09974718,  0.0886425 ,\n",
       "         0.23246488]])"
      ]
     },
     "execution_count": 14,
     "metadata": {},
     "output_type": "execute_result"
    }
   ],
   "source": [
    "temp[1][4,:,:]"
   ]
  },
  {
   "cell_type": "code",
   "execution_count": 23,
   "metadata": {},
   "outputs": [
    {
     "name": "stdout",
     "output_type": "stream",
     "text": [
      "[[1 3 1 1]\n",
      " [3 0 0 1]\n",
      " [1 1 1 0]\n",
      " [1 0 1 0]]\n",
      "[1 1 0 2]\n",
      "[1.5  1.   0.75 0.5 ]\n"
     ]
    }
   ],
   "source": [
    "X = np.random.randint(0,4,(4,4))\n",
    "mu = np.random.randint(0,4,(4,))\n",
    "print(X)\n",
    "print(mu)\n",
    "print(np.mean(X,axis=0))"
   ]
  },
  {
   "cell_type": "code",
   "execution_count": 39,
   "metadata": {},
   "outputs": [],
   "source": [
    "import pickle\n",
    "with open('ninjaboi','wb') as f:\n",
    "    pickle.dump(temp,f)"
   ]
  },
  {
   "cell_type": "code",
   "execution_count": 41,
   "metadata": {},
   "outputs": [],
   "source": [
    "with open('ninjaboi','rb') as f:\n",
    "    temp = pickle.load(f)"
   ]
  }
 ],
 "metadata": {
  "kernelspec": {
   "display_name": "Python 3",
   "language": "python",
   "name": "python3"
  },
  "language_info": {
   "codemirror_mode": {
    "name": "ipython",
    "version": 3
   },
   "file_extension": ".py",
   "mimetype": "text/x-python",
   "name": "python",
   "nbconvert_exporter": "python",
   "pygments_lexer": "ipython3",
   "version": "3.7.3"
  }
 },
 "nbformat": 4,
 "nbformat_minor": 2
}
