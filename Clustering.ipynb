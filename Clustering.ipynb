{
 "cells": [
  {
   "cell_type": "code",
   "execution_count": 7,
   "metadata": {
    "scrolled": false
   },
   "outputs": [
    {
     "data": {
      "text/html": [
       "<div>\n",
       "<style scoped>\n",
       "    .dataframe tbody tr th:only-of-type {\n",
       "        vertical-align: middle;\n",
       "    }\n",
       "\n",
       "    .dataframe tbody tr th {\n",
       "        vertical-align: top;\n",
       "    }\n",
       "\n",
       "    .dataframe thead th {\n",
       "        text-align: right;\n",
       "    }\n",
       "</style>\n",
       "<table border=\"1\" class=\"dataframe\">\n",
       "  <thead>\n",
       "    <tr style=\"text-align: right;\">\n",
       "      <th></th>\n",
       "      <th>PD1</th>\n",
       "      <th>GzmB</th>\n",
       "      <th>CD8a</th>\n",
       "      <th>CD103</th>\n",
       "      <th>CD56</th>\n",
       "      <th>CD25</th>\n",
       "      <th>CD4</th>\n",
       "      <th>CD19</th>\n",
       "      <th>CD49a</th>\n",
       "      <th>CD3</th>\n",
       "      <th>FoxP3</th>\n",
       "    </tr>\n",
       "  </thead>\n",
       "  <tbody>\n",
       "    <tr>\n",
       "      <th>0</th>\n",
       "      <td>2.504053</td>\n",
       "      <td>1.743894</td>\n",
       "      <td>0.725944</td>\n",
       "      <td>1.063522</td>\n",
       "      <td>1.146853</td>\n",
       "      <td>0.924040</td>\n",
       "      <td>2.429543</td>\n",
       "      <td>1.594169</td>\n",
       "      <td>3.008561</td>\n",
       "      <td>1.925828</td>\n",
       "      <td>0.740108</td>\n",
       "    </tr>\n",
       "    <tr>\n",
       "      <th>1</th>\n",
       "      <td>2.937590</td>\n",
       "      <td>0.965164</td>\n",
       "      <td>0.881464</td>\n",
       "      <td>0.670346</td>\n",
       "      <td>1.038474</td>\n",
       "      <td>0.652726</td>\n",
       "      <td>3.049838</td>\n",
       "      <td>0.804982</td>\n",
       "      <td>1.554277</td>\n",
       "      <td>3.028467</td>\n",
       "      <td>0.704128</td>\n",
       "    </tr>\n",
       "    <tr>\n",
       "      <th>2</th>\n",
       "      <td>1.965308</td>\n",
       "      <td>1.642952</td>\n",
       "      <td>1.606638</td>\n",
       "      <td>0.858989</td>\n",
       "      <td>1.958268</td>\n",
       "      <td>0.452743</td>\n",
       "      <td>0.752499</td>\n",
       "      <td>0.769652</td>\n",
       "      <td>2.515895</td>\n",
       "      <td>0.657351</td>\n",
       "      <td>0.896525</td>\n",
       "    </tr>\n",
       "    <tr>\n",
       "      <th>3</th>\n",
       "      <td>2.299397</td>\n",
       "      <td>1.153718</td>\n",
       "      <td>0.787172</td>\n",
       "      <td>1.049134</td>\n",
       "      <td>1.049146</td>\n",
       "      <td>0.520877</td>\n",
       "      <td>2.467355</td>\n",
       "      <td>0.953395</td>\n",
       "      <td>3.311222</td>\n",
       "      <td>2.077786</td>\n",
       "      <td>0.692643</td>\n",
       "    </tr>\n",
       "    <tr>\n",
       "      <th>4</th>\n",
       "      <td>2.091425</td>\n",
       "      <td>1.551998</td>\n",
       "      <td>0.489546</td>\n",
       "      <td>1.902957</td>\n",
       "      <td>1.145825</td>\n",
       "      <td>0.798927</td>\n",
       "      <td>2.138727</td>\n",
       "      <td>0.968204</td>\n",
       "      <td>1.265866</td>\n",
       "      <td>0.724537</td>\n",
       "      <td>0.891197</td>\n",
       "    </tr>\n",
       "  </tbody>\n",
       "</table>\n",
       "</div>"
      ],
      "text/plain": [
       "        PD1      GzmB      CD8a     CD103      CD56      CD25       CD4  \\\n",
       "0  2.504053  1.743894  0.725944  1.063522  1.146853  0.924040  2.429543   \n",
       "1  2.937590  0.965164  0.881464  0.670346  1.038474  0.652726  3.049838   \n",
       "2  1.965308  1.642952  1.606638  0.858989  1.958268  0.452743  0.752499   \n",
       "3  2.299397  1.153718  0.787172  1.049134  1.049146  0.520877  2.467355   \n",
       "4  2.091425  1.551998  0.489546  1.902957  1.145825  0.798927  2.138727   \n",
       "\n",
       "       CD19     CD49a       CD3     FoxP3  \n",
       "0  1.594169  3.008561  1.925828  0.740108  \n",
       "1  0.804982  1.554277  3.028467  0.704128  \n",
       "2  0.769652  2.515895  0.657351  0.896525  \n",
       "3  0.953395  3.311222  2.077786  0.692643  \n",
       "4  0.968204  1.265866  0.724537  0.891197  "
      ]
     },
     "execution_count": 7,
     "metadata": {},
     "output_type": "execute_result"
    }
   ],
   "source": [
    "import numpy as np\n",
    "import pandas as pd\n",
    "import time\n",
    "\n",
    "d = pd.read_csv(\"temp.csv\")\n",
    "d.head()"
   ]
  },
  {
   "cell_type": "code",
   "execution_count": 8,
   "metadata": {},
   "outputs": [
    {
     "data": {
      "text/plain": [
       "AnnData object with n_obs × n_vars = 137147 × 11 \n",
       "    obs: 0\n",
       "    var: 0"
      ]
     },
     "execution_count": 8,
     "metadata": {},
     "output_type": "execute_result"
    }
   ],
   "source": [
    "import scanpy as sc\n",
    "import anndata\n",
    "import igraph\n",
    "d = d.iloc[:,:11]\n",
    "adata = anndata.AnnData(X=pd.DataFrame.to_numpy(d), obs=list(d.index.values), var=list(d.columns.values))\n",
    "adata"
   ]
  },
  {
   "cell_type": "code",
   "execution_count": 15,
   "metadata": {},
   "outputs": [
    {
     "name": "stdout",
     "output_type": "stream",
     "text": [
      "Louvain clustering...\n",
      "DONE: 116.18968677520752 s\n",
      "Number of clusters:  9\n"
     ]
    }
   ],
   "source": [
    "# print(\"Nearest neighbours...\")\n",
    "# start = time.time()\n",
    "# sc.pp.neighbors(adata, n_neighbors=45)\n",
    "# print(\"DONE: {} s\".format(time.time()-start))\n",
    "print(\"Louvain clustering...\")\n",
    "mid = time.time()\n",
    "sc.tl.louvain(adata, resolution=0.14)\n",
    "print(\"DONE: {} s\".format(time.time()-mid))\n",
    "print(\"Number of clusters: \",max(np.array(adata.obs['louvain']).astype(int)+1))\n",
    "d['cluster']=np.array(adata.obs['louvain']).astype(int)+1\n",
    "d.to_csv(\"temp.csv\", index=False)"
   ]
  }
 ],
 "metadata": {
  "kernelspec": {
   "display_name": "Python 3",
   "language": "python",
   "name": "python3"
  },
  "language_info": {
   "codemirror_mode": {
    "name": "ipython",
    "version": 3
   },
   "file_extension": ".py",
   "mimetype": "text/x-python",
   "name": "python",
   "nbconvert_exporter": "python",
   "pygments_lexer": "ipython3",
   "version": "3.7.3"
  }
 },
 "nbformat": 4,
 "nbformat_minor": 2
}
