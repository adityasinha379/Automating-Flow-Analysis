{
 "cells": [
  {
   "cell_type": "code",
   "execution_count": 8,
   "metadata": {
    "scrolled": false
   },
   "outputs": [
    {
     "data": {
      "text/html": [
       "<div>\n",
       "<style scoped>\n",
       "    .dataframe tbody tr th:only-of-type {\n",
       "        vertical-align: middle;\n",
       "    }\n",
       "\n",
       "    .dataframe tbody tr th {\n",
       "        vertical-align: top;\n",
       "    }\n",
       "\n",
       "    .dataframe thead th {\n",
       "        text-align: right;\n",
       "    }\n",
       "</style>\n",
       "<table border=\"1\" class=\"dataframe\">\n",
       "  <thead>\n",
       "    <tr style=\"text-align: right;\">\n",
       "      <th></th>\n",
       "      <th>CD304</th>\n",
       "      <th>CD1c</th>\n",
       "      <th>FcER1</th>\n",
       "      <th>HLADR</th>\n",
       "      <th>Clec9a</th>\n",
       "      <th>CD14</th>\n",
       "      <th>56</th>\n",
       "      <th>CD15</th>\n",
       "      <th>CD203c</th>\n",
       "      <th>CD141</th>\n",
       "      <th>CD16</th>\n",
       "    </tr>\n",
       "  </thead>\n",
       "  <tbody>\n",
       "    <tr>\n",
       "      <th>0</th>\n",
       "      <td>0.728950</td>\n",
       "      <td>1.800504</td>\n",
       "      <td>0.461779</td>\n",
       "      <td>0.105685</td>\n",
       "      <td>0.583352</td>\n",
       "      <td>0.021290</td>\n",
       "      <td>2.136260</td>\n",
       "      <td>1.112822</td>\n",
       "      <td>0.651236</td>\n",
       "      <td>0.504272</td>\n",
       "      <td>0.803037</td>\n",
       "    </tr>\n",
       "    <tr>\n",
       "      <th>1</th>\n",
       "      <td>1.055230</td>\n",
       "      <td>1.770434</td>\n",
       "      <td>0.595516</td>\n",
       "      <td>1.918719</td>\n",
       "      <td>1.186435</td>\n",
       "      <td>1.687472</td>\n",
       "      <td>2.020411</td>\n",
       "      <td>1.085909</td>\n",
       "      <td>0.691856</td>\n",
       "      <td>-0.218060</td>\n",
       "      <td>0.557938</td>\n",
       "    </tr>\n",
       "    <tr>\n",
       "      <th>2</th>\n",
       "      <td>0.608616</td>\n",
       "      <td>1.583415</td>\n",
       "      <td>0.864213</td>\n",
       "      <td>1.832889</td>\n",
       "      <td>0.944195</td>\n",
       "      <td>1.788921</td>\n",
       "      <td>1.844008</td>\n",
       "      <td>1.051284</td>\n",
       "      <td>0.809935</td>\n",
       "      <td>0.067364</td>\n",
       "      <td>1.926569</td>\n",
       "    </tr>\n",
       "    <tr>\n",
       "      <th>3</th>\n",
       "      <td>0.718539</td>\n",
       "      <td>1.892303</td>\n",
       "      <td>0.739363</td>\n",
       "      <td>1.828675</td>\n",
       "      <td>1.116597</td>\n",
       "      <td>1.756571</td>\n",
       "      <td>2.187723</td>\n",
       "      <td>1.013532</td>\n",
       "      <td>0.649286</td>\n",
       "      <td>0.810834</td>\n",
       "      <td>-0.143356</td>\n",
       "    </tr>\n",
       "    <tr>\n",
       "      <th>4</th>\n",
       "      <td>0.523798</td>\n",
       "      <td>1.865857</td>\n",
       "      <td>0.976382</td>\n",
       "      <td>1.941438</td>\n",
       "      <td>1.483872</td>\n",
       "      <td>1.736905</td>\n",
       "      <td>2.605964</td>\n",
       "      <td>1.835294</td>\n",
       "      <td>-0.486019</td>\n",
       "      <td>1.165125</td>\n",
       "      <td>1.901858</td>\n",
       "    </tr>\n",
       "  </tbody>\n",
       "</table>\n",
       "</div>"
      ],
      "text/plain": [
       "      CD304      CD1c     FcER1     HLADR    Clec9a      CD14        56  \\\n",
       "0  0.728950  1.800504  0.461779  0.105685  0.583352  0.021290  2.136260   \n",
       "1  1.055230  1.770434  0.595516  1.918719  1.186435  1.687472  2.020411   \n",
       "2  0.608616  1.583415  0.864213  1.832889  0.944195  1.788921  1.844008   \n",
       "3  0.718539  1.892303  0.739363  1.828675  1.116597  1.756571  2.187723   \n",
       "4  0.523798  1.865857  0.976382  1.941438  1.483872  1.736905  2.605964   \n",
       "\n",
       "       CD15    CD203c     CD141      CD16  \n",
       "0  1.112822  0.651236  0.504272  0.803037  \n",
       "1  1.085909  0.691856 -0.218060  0.557938  \n",
       "2  1.051284  0.809935  0.067364  1.926569  \n",
       "3  1.013532  0.649286  0.810834 -0.143356  \n",
       "4  1.835294 -0.486019  1.165125  1.901858  "
      ]
     },
     "execution_count": 8,
     "metadata": {},
     "output_type": "execute_result"
    }
   ],
   "source": [
    "import numpy as np\n",
    "import pandas as pd\n",
    "import time\n",
    "\n",
    "d = pd.read_csv(\"temp.csv\")\n",
    "d.head()"
   ]
  },
  {
   "cell_type": "code",
   "execution_count": 9,
   "metadata": {},
   "outputs": [
    {
     "data": {
      "text/plain": [
       "AnnData object with n_obs × n_vars = 284398 × 11 \n",
       "    obs: 0\n",
       "    var: 0"
      ]
     },
     "execution_count": 9,
     "metadata": {},
     "output_type": "execute_result"
    }
   ],
   "source": [
    "import scanpy as sc\n",
    "import anndata\n",
    "import igraph\n",
    "d = d.iloc[:,:11]\n",
    "adata = anndata.AnnData(X=pd.DataFrame.to_numpy(d), obs=list(d.index.values), var=list(d.columns.values))\n",
    "adata"
   ]
  },
  {
   "cell_type": "code",
   "execution_count": 15,
   "metadata": {},
   "outputs": [
    {
     "name": "stdout",
     "output_type": "stream",
     "text": [
      "Louvain clustering...\n",
      "DONE: 547.298743724823 s\n",
      "Number of clusters:  5\n"
     ]
    }
   ],
   "source": [
    "# print(\"Nearest neighbours...\")\n",
    "# start = time.time()\n",
    "# sc.pp.neighbors(adata, n_neighbors=45)\n",
    "# print(\"DONE: {} s\".format(time.time()-start))\n",
    "print(\"Louvain clustering...\")\n",
    "mid = time.time()\n",
    "sc.tl.louvain(adata, resolution=0.13)\n",
    "print(\"DONE: {} s\".format(time.time()-mid))\n",
    "print(\"Number of clusters: \",max(np.array(adata.obs['louvain']).astype(int)+1))\n",
    "d['cluster']=np.array(adata.obs['louvain']).astype(int)+1\n",
    "d.to_csv(\"temp.csv\", index=False)"
   ]
  }
 ],
 "metadata": {
  "kernelspec": {
   "display_name": "Python 3",
   "language": "python",
   "name": "python3"
  },
  "language_info": {
   "codemirror_mode": {
    "name": "ipython",
    "version": 3
   },
   "file_extension": ".py",
   "mimetype": "text/x-python",
   "name": "python",
   "nbconvert_exporter": "python",
   "pygments_lexer": "ipython3",
   "version": "3.7.3"
  }
 },
 "nbformat": 4,
 "nbformat_minor": 2
}
