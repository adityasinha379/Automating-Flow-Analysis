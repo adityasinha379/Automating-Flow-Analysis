{
 "cells": [
  {
   "cell_type": "code",
   "execution_count": 1,
   "metadata": {
    "scrolled": false
   },
   "outputs": [
    {
     "data": {
      "text/html": [
       "<div>\n",
       "<style scoped>\n",
       "    .dataframe tbody tr th:only-of-type {\n",
       "        vertical-align: middle;\n",
       "    }\n",
       "\n",
       "    .dataframe tbody tr th {\n",
       "        vertical-align: top;\n",
       "    }\n",
       "\n",
       "    .dataframe thead th {\n",
       "        text-align: right;\n",
       "    }\n",
       "</style>\n",
       "<table border=\"1\" class=\"dataframe\">\n",
       "  <thead>\n",
       "    <tr style=\"text-align: right;\">\n",
       "      <th></th>\n",
       "      <th>PD1</th>\n",
       "      <th>GzmB</th>\n",
       "      <th>CD8a</th>\n",
       "      <th>CD103</th>\n",
       "      <th>CD56</th>\n",
       "      <th>CD25</th>\n",
       "      <th>CD4</th>\n",
       "      <th>CD19</th>\n",
       "      <th>CD49a</th>\n",
       "      <th>CD3</th>\n",
       "      <th>FoxP3</th>\n",
       "    </tr>\n",
       "  </thead>\n",
       "  <tbody>\n",
       "    <tr>\n",
       "      <th>0</th>\n",
       "      <td>1.760079</td>\n",
       "      <td>2.241769</td>\n",
       "      <td>0.447316</td>\n",
       "      <td>0.951417</td>\n",
       "      <td>1.085694</td>\n",
       "      <td>0.365136</td>\n",
       "      <td>1.159030</td>\n",
       "      <td>0.744424</td>\n",
       "      <td>1.756490</td>\n",
       "      <td>1.208541</td>\n",
       "      <td>0.897291</td>\n",
       "    </tr>\n",
       "    <tr>\n",
       "      <th>1</th>\n",
       "      <td>2.504053</td>\n",
       "      <td>1.743894</td>\n",
       "      <td>0.725944</td>\n",
       "      <td>1.063522</td>\n",
       "      <td>1.146853</td>\n",
       "      <td>0.924040</td>\n",
       "      <td>2.429543</td>\n",
       "      <td>1.594169</td>\n",
       "      <td>3.008561</td>\n",
       "      <td>1.925828</td>\n",
       "      <td>0.740108</td>\n",
       "    </tr>\n",
       "    <tr>\n",
       "      <th>2</th>\n",
       "      <td>1.171469</td>\n",
       "      <td>1.729824</td>\n",
       "      <td>0.942350</td>\n",
       "      <td>0.670537</td>\n",
       "      <td>1.141923</td>\n",
       "      <td>0.644870</td>\n",
       "      <td>0.998817</td>\n",
       "      <td>0.800615</td>\n",
       "      <td>1.419161</td>\n",
       "      <td>1.141207</td>\n",
       "      <td>0.937181</td>\n",
       "    </tr>\n",
       "    <tr>\n",
       "      <th>3</th>\n",
       "      <td>1.464891</td>\n",
       "      <td>1.908043</td>\n",
       "      <td>0.499899</td>\n",
       "      <td>0.927789</td>\n",
       "      <td>0.677614</td>\n",
       "      <td>1.049692</td>\n",
       "      <td>0.864599</td>\n",
       "      <td>0.746302</td>\n",
       "      <td>1.478173</td>\n",
       "      <td>1.268048</td>\n",
       "      <td>0.886642</td>\n",
       "    </tr>\n",
       "    <tr>\n",
       "      <th>4</th>\n",
       "      <td>1.989203</td>\n",
       "      <td>1.786417</td>\n",
       "      <td>0.857825</td>\n",
       "      <td>0.784642</td>\n",
       "      <td>0.617290</td>\n",
       "      <td>1.169930</td>\n",
       "      <td>0.363880</td>\n",
       "      <td>0.945732</td>\n",
       "      <td>1.475951</td>\n",
       "      <td>1.183369</td>\n",
       "      <td>0.803843</td>\n",
       "    </tr>\n",
       "  </tbody>\n",
       "</table>\n",
       "</div>"
      ],
      "text/plain": [
       "        PD1      GzmB      CD8a     CD103      CD56      CD25       CD4  \\\n",
       "0  1.760079  2.241769  0.447316  0.951417  1.085694  0.365136  1.159030   \n",
       "1  2.504053  1.743894  0.725944  1.063522  1.146853  0.924040  2.429543   \n",
       "2  1.171469  1.729824  0.942350  0.670537  1.141923  0.644870  0.998817   \n",
       "3  1.464891  1.908043  0.499899  0.927789  0.677614  1.049692  0.864599   \n",
       "4  1.989203  1.786417  0.857825  0.784642  0.617290  1.169930  0.363880   \n",
       "\n",
       "       CD19     CD49a       CD3     FoxP3  \n",
       "0  0.744424  1.756490  1.208541  0.897291  \n",
       "1  1.594169  3.008561  1.925828  0.740108  \n",
       "2  0.800615  1.419161  1.141207  0.937181  \n",
       "3  0.746302  1.478173  1.268048  0.886642  \n",
       "4  0.945732  1.475951  1.183369  0.803843  "
      ]
     },
     "execution_count": 1,
     "metadata": {},
     "output_type": "execute_result"
    }
   ],
   "source": [
    "import numpy as np\n",
    "import pandas as pd\n",
    "import time\n",
    "\n",
    "d = pd.read_csv(\"temp.csv\")\n",
    "d.head()"
   ]
  },
  {
   "cell_type": "code",
   "execution_count": 2,
   "metadata": {},
   "outputs": [
    {
     "data": {
      "text/plain": [
       "AnnData object with n_obs × n_vars = 278186 × 11 \n",
       "    obs: 0\n",
       "    var: 0"
      ]
     },
     "execution_count": 2,
     "metadata": {},
     "output_type": "execute_result"
    }
   ],
   "source": [
    "import scanpy as sc\n",
    "import anndata\n",
    "import igraph\n",
    "d = d.iloc[:,:11]\n",
    "adata = anndata.AnnData(X=pd.DataFrame.to_numpy(d), obs=list(d.index.values), var=list(d.columns.values))\n",
    "adata"
   ]
  },
  {
   "cell_type": "code",
   "execution_count": 6,
   "metadata": {},
   "outputs": [
    {
     "name": "stdout",
     "output_type": "stream",
     "text": [
      "Nearest neighbours...\n"
     ]
    },
    {
     "name": "stderr",
     "output_type": "stream",
     "text": [
      "C:\\Users\\adity\\Anaconda3\\lib\\site-packages\\numba\\compiler.py:588: NumbaPerformanceWarning: \u001b[1m\n",
      "The keyword argument 'parallel=True' was specified but no transformation for parallel execution was possible.\n",
      "\n",
      "To find out why, try turning on parallel diagnostics, see http://numba.pydata.org/numba-doc/latest/user/parallel.html#diagnostics for help.\n",
      "\u001b[1m\n",
      "File \"..\\..\\..\\..\\Anaconda3\\lib\\site-packages\\umap\\nndescent.py\", line 47:\u001b[0m\n",
      "\u001b[1m    @numba.njit(parallel=True)\n",
      "\u001b[1m    def nn_descent(\n",
      "\u001b[0m    \u001b[1m^\u001b[0m\u001b[0m\n",
      "\u001b[0m\n",
      "  self.func_ir.loc))\n"
     ]
    },
    {
     "name": "stdout",
     "output_type": "stream",
     "text": [
      "DONE: 307.738650560379 s\n",
      "Louvain clustering...\n",
      "DONE: 559.4269225597382 s\n",
      "Number of clusters:  10\n"
     ]
    }
   ],
   "source": [
    "print(\"Nearest neighbours...\")\n",
    "start = time.time()\n",
    "sc.pp.neighbors(adata, n_neighbors=35)\n",
    "print(\"DONE: {} s\".format(time.time()-start))\n",
    "print(\"Louvain clustering...\")\n",
    "mid = time.time()\n",
    "sc.tl.louvain(adata, resolution=0.25)\n",
    "print(\"DONE: {} s\".format(time.time()-mid))\n",
    "print(\"Number of clusters: \",max(np.array(adata.obs['louvain']).astype(int)+1))\n",
    "d['cluster']=np.array(adata.obs['louvain']).astype(int)+1\n",
    "d.to_csv(\"temp.csv\", index=False)"
   ]
  }
 ],
 "metadata": {
  "kernelspec": {
   "display_name": "Python 3",
   "language": "python",
   "name": "python3"
  },
  "language_info": {
   "codemirror_mode": {
    "name": "ipython",
    "version": 3
   },
   "file_extension": ".py",
   "mimetype": "text/x-python",
   "name": "python",
   "nbconvert_exporter": "python",
   "pygments_lexer": "ipython3",
   "version": "3.7.3"
  }
 },
 "nbformat": 4,
 "nbformat_minor": 2
}
