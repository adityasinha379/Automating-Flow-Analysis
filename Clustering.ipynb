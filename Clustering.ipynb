{
 "cells": [
  {
   "cell_type": "code",
   "execution_count": 2,
   "metadata": {
    "scrolled": false
   },
   "outputs": [
    {
     "data": {
      "text/html": [
       "<div>\n",
       "<style scoped>\n",
       "    .dataframe tbody tr th:only-of-type {\n",
       "        vertical-align: middle;\n",
       "    }\n",
       "\n",
       "    .dataframe tbody tr th {\n",
       "        vertical-align: top;\n",
       "    }\n",
       "\n",
       "    .dataframe thead th {\n",
       "        text-align: right;\n",
       "    }\n",
       "</style>\n",
       "<table border=\"1\" class=\"dataframe\">\n",
       "  <thead>\n",
       "    <tr style=\"text-align: right;\">\n",
       "      <th></th>\n",
       "      <th>PD1</th>\n",
       "      <th>GzmB</th>\n",
       "      <th>CD8a</th>\n",
       "      <th>CD103</th>\n",
       "      <th>CD56</th>\n",
       "      <th>CD25</th>\n",
       "      <th>CD4</th>\n",
       "      <th>CD19</th>\n",
       "      <th>CD49a</th>\n",
       "      <th>CD3</th>\n",
       "      <th>FoxP3</th>\n",
       "    </tr>\n",
       "  </thead>\n",
       "  <tbody>\n",
       "    <tr>\n",
       "      <th>0</th>\n",
       "      <td>1.760079</td>\n",
       "      <td>2.241769</td>\n",
       "      <td>0.447316</td>\n",
       "      <td>0.951417</td>\n",
       "      <td>1.085694</td>\n",
       "      <td>0.365136</td>\n",
       "      <td>1.159030</td>\n",
       "      <td>0.744424</td>\n",
       "      <td>1.756490</td>\n",
       "      <td>1.208541</td>\n",
       "      <td>0.897291</td>\n",
       "    </tr>\n",
       "    <tr>\n",
       "      <th>1</th>\n",
       "      <td>2.504053</td>\n",
       "      <td>1.743894</td>\n",
       "      <td>0.725944</td>\n",
       "      <td>1.063522</td>\n",
       "      <td>1.146853</td>\n",
       "      <td>0.924040</td>\n",
       "      <td>2.429543</td>\n",
       "      <td>1.594169</td>\n",
       "      <td>3.008561</td>\n",
       "      <td>1.925828</td>\n",
       "      <td>0.740108</td>\n",
       "    </tr>\n",
       "    <tr>\n",
       "      <th>2</th>\n",
       "      <td>1.171469</td>\n",
       "      <td>1.729824</td>\n",
       "      <td>0.942350</td>\n",
       "      <td>0.670537</td>\n",
       "      <td>1.141923</td>\n",
       "      <td>0.644870</td>\n",
       "      <td>0.998817</td>\n",
       "      <td>0.800615</td>\n",
       "      <td>1.419161</td>\n",
       "      <td>1.141207</td>\n",
       "      <td>0.937181</td>\n",
       "    </tr>\n",
       "    <tr>\n",
       "      <th>3</th>\n",
       "      <td>1.464891</td>\n",
       "      <td>1.908043</td>\n",
       "      <td>0.499899</td>\n",
       "      <td>0.927789</td>\n",
       "      <td>0.677614</td>\n",
       "      <td>1.049692</td>\n",
       "      <td>0.864599</td>\n",
       "      <td>0.746302</td>\n",
       "      <td>1.478173</td>\n",
       "      <td>1.268048</td>\n",
       "      <td>0.886642</td>\n",
       "    </tr>\n",
       "    <tr>\n",
       "      <th>4</th>\n",
       "      <td>1.989203</td>\n",
       "      <td>1.786417</td>\n",
       "      <td>0.857825</td>\n",
       "      <td>0.784642</td>\n",
       "      <td>0.617290</td>\n",
       "      <td>1.169930</td>\n",
       "      <td>0.363880</td>\n",
       "      <td>0.945732</td>\n",
       "      <td>1.475951</td>\n",
       "      <td>1.183369</td>\n",
       "      <td>0.803843</td>\n",
       "    </tr>\n",
       "  </tbody>\n",
       "</table>\n",
       "</div>"
      ],
      "text/plain": [
       "        PD1      GzmB      CD8a     CD103      CD56      CD25       CD4  \\\n",
       "0  1.760079  2.241769  0.447316  0.951417  1.085694  0.365136  1.159030   \n",
       "1  2.504053  1.743894  0.725944  1.063522  1.146853  0.924040  2.429543   \n",
       "2  1.171469  1.729824  0.942350  0.670537  1.141923  0.644870  0.998817   \n",
       "3  1.464891  1.908043  0.499899  0.927789  0.677614  1.049692  0.864599   \n",
       "4  1.989203  1.786417  0.857825  0.784642  0.617290  1.169930  0.363880   \n",
       "\n",
       "       CD19     CD49a       CD3     FoxP3  \n",
       "0  0.744424  1.756490  1.208541  0.897291  \n",
       "1  1.594169  3.008561  1.925828  0.740108  \n",
       "2  0.800615  1.419161  1.141207  0.937181  \n",
       "3  0.746302  1.478173  1.268048  0.886642  \n",
       "4  0.945732  1.475951  1.183369  0.803843  "
      ]
     },
     "execution_count": 2,
     "metadata": {},
     "output_type": "execute_result"
    }
   ],
   "source": [
    "import numpy as np\n",
    "import pandas as pd\n",
    "import time\n",
    "\n",
    "d = pd.read_csv(\"temp.csv\")\n",
    "d.head()"
   ]
  },
  {
   "cell_type": "markdown",
   "metadata": {},
   "source": [
    "## Gaussian Mixture Model"
   ]
  },
  {
   "cell_type": "code",
   "execution_count": 3,
   "metadata": {},
   "outputs": [
    {
     "name": "stdout",
     "output_type": "stream",
     "text": [
      "For PD1, confident classification: 21.2 %\n",
      "For GzmB, confident classification: 84.37 %\n",
      "For CD8a, confident classification: 99.11 %\n",
      "For CD103, confident classification: 96.12 %\n",
      "For CD56, confident classification: 1.87 %\n",
      "For CD25, confident classification: 4.34 %\n",
      "For CD4, confident classification: 99.22 %\n",
      "For CD19, confident classification: 13.42 %\n",
      "For CD49a, confident classification: 90.64 %\n",
      "For CD3, confident classification: 98.05 %\n",
      "For FoxP3, confident classification: 76.08 %\n"
     ]
    }
   ],
   "source": [
    "from sklearn.mixture import GaussianMixture\n",
    "\n",
    "cols = d.columns\n",
    "[m,n] = d.shape\n",
    "\n",
    "thresh = 0.9\n",
    "ncomp = 2*np.ones(n,dtype=int)\n",
    "ncomp[list(cols).index('CD56')] = 3\n",
    "\n",
    "for i in range(n):\n",
    "    temp = d[cols[i]].to_numpy().reshape(-1,1)\n",
    "    gmm = GaussianMixture(n_components=ncomp[i]).fit(temp)\n",
    "    probs = gmm.predict_proba(temp)\n",
    "    isconfident = np.any(probs>thresh,axis=1)\n",
    "    print('For {}, confident classification: {} %'.format(cols[i],round(np.sum(isconfident)/m*100,2)))"
   ]
  },
  {
   "cell_type": "code",
   "execution_count": 140,
   "metadata": {},
   "outputs": [],
   "source": [
    "# hierarchical GMM\n",
    "from sklearn.mixture import GaussianMixture\n",
    "\n",
    "def gmm_gate(d,colname,ncomp=2):\n",
    "    temp = d[colname].to_numpy().reshape(-1,1)\n",
    "    gmm = GaussianMixture(n_components=ncomp).fit(temp)\n",
    "    labels = gmm.predict(temp)\n",
    "    mapping = dict(zip( list(range(len(gmm.means_))),list(np.argsort(np.squeeze(gmm.means_))) ))\n",
    "    labels = np.asarray([mapping[x] for x in labels])\n",
    "    return labels\n",
    "\n",
    "def gmm_classify(d,gatename):\n",
    "    cols = d[gatename].columns\n",
    "    [m,n] = d[gatename].shape\n",
    "    ncomp = 2*np.ones(n,dtype=int)\n",
    "    ncomp[list(cols).index('CD56')] = 3\n",
    "    \n",
    "    print('\\nIn {}:'.format(gatename))\n",
    "    for i in range(n):\n",
    "        temp = d[gatename][cols[i]].to_numpy().reshape(-1,1)\n",
    "        gmm = GaussianMixture(n_components=ncomp[i]).fit(temp)\n",
    "        probs = gmm.predict_proba(temp)\n",
    "        isconfident = np.any(probs>thresh,axis=1)\n",
    "        print('For {}, confident classification: {} %'.format(cols[i],round(np.sum(isconfident)/m*100,2)))"
   ]
  },
  {
   "cell_type": "code",
   "execution_count": 142,
   "metadata": {
    "scrolled": true
   },
   "outputs": [
    {
     "name": "stdout",
     "output_type": "stream",
     "text": [
      "CD3+: 35.8 %\n",
      "CD3-: 64.2 %\n",
      "CD3+CD4+: 25.15 %\n",
      "CD3+CD4+FoxP3+: 2.58 %\n",
      "CD3+CD8+: 9.99 %\n",
      "CD3+CD8+FoxP3+: 6.33 %\n",
      "CD3-CD19+: 1.54 %\n"
     ]
    }
   ],
   "source": [
    "cols = d.columns\n",
    "[m,n] = d.shape\n",
    "thresh = 0.9\n",
    "gate = {}\n",
    "\n",
    "labels = gmm_gate(d,'CD3')\n",
    "gate['CD3+'] = d.iloc[np.where(labels==1)].drop('CD3',axis=1).reset_index(drop=True)\n",
    "gate['CD3-'] = d.iloc[np.where(labels==0)].drop('CD3',axis=1).reset_index(drop=True)\n",
    "\n",
    "labels = gmm_gate(gate['CD3+'],'CD4')\n",
    "gate['CD3+CD4+'] = gate['CD3+'].iloc[np.where(labels==1)].drop('CD4',axis=1).reset_index(drop=True)\n",
    "\n",
    "labels = gmm_gate(gate['CD3+CD4+'],'FoxP3')\n",
    "gate['CD3+CD4+FoxP3+'] = gate['CD3+CD4+'].iloc[np.where(labels==1)].drop('FoxP3',axis=1).reset_index(drop=True)\n",
    "\n",
    "labels = gmm_gate(gate['CD3+'],'CD8a')\n",
    "gate['CD3+CD8+'] = gate['CD3+'].iloc[np.where(labels==1)].drop('CD8a',axis=1).reset_index(drop=True)\n",
    "\n",
    "labels = gmm_gate(gate['CD3+CD8+'],'FoxP3')\n",
    "gate['CD3+CD8+FoxP3+'] = gate['CD3+CD8+'].iloc[np.where(labels==1)].drop('FoxP3',axis=1).reset_index(drop=True)\n",
    "\n",
    "labels = gmm_gate(gate['CD3-'],'CD19')\n",
    "gate['CD3-CD19+'] = gate['CD3-'].iloc[np.where(labels==1)].drop('CD19',axis=1).reset_index(drop=True)\n",
    "\n",
    "for gatename in gate.keys():\n",
    "    print('{}: {} %'.format(gatename,round(gate[gatename].shape[0]/m*100,2)))"
   ]
  },
  {
   "cell_type": "code",
   "execution_count": 135,
   "metadata": {
    "scrolled": true
   },
   "outputs": [
    {
     "name": "stdout",
     "output_type": "stream",
     "text": [
      "\n",
      "In CD3+:\n",
      "For PD1, confident classification: 80.87 %\n",
      "For GzmB, confident classification: 67.18 %\n",
      "For CD8a, confident classification: 99.55 %\n",
      "For CD103, confident classification: 98.83 %\n",
      "For CD56, confident classification: 5.14 %\n",
      "For CD25, confident classification: 78.52 %\n",
      "For CD4, confident classification: 99.49 %\n",
      "For CD19, confident classification: 14.05 %\n",
      "For CD49a, confident classification: 86.49 %\n",
      "For FoxP3, confident classification: 82.77 %\n",
      "\n",
      "In CD3+CD4+:\n",
      "For PD1, confident classification: 63.53 %\n",
      "For GzmB, confident classification: 72.83 %\n",
      "For CD8a, confident classification: 94.49 %\n",
      "For CD103, confident classification: 96.47 %\n",
      "For CD56, confident classification: 1.3 %\n",
      "For CD25, confident classification: 84.17 %\n",
      "For CD19, confident classification: 37.36 %\n",
      "For CD49a, confident classification: 86.99 %\n",
      "For FoxP3, confident classification: 81.17 %\n",
      "\n",
      "In CD3+CD8+:\n",
      "For PD1, confident classification: 78.57 %\n",
      "For GzmB, confident classification: 50.93 %\n",
      "For CD103, confident classification: 99.51 %\n",
      "For CD56, confident classification: 1.51 %\n",
      "For CD25, confident classification: 3.79 %\n",
      "For CD4, confident classification: 97.5 %\n",
      "For CD19, confident classification: 3.28 %\n",
      "For CD49a, confident classification: 85.02 %\n",
      "For FoxP3, confident classification: 21.67 %\n",
      "\n",
      "In CD3-:\n",
      "For PD1, confident classification: 71.5 %\n",
      "For GzmB, confident classification: 72.88 %\n",
      "For CD8a, confident classification: 84.85 %\n",
      "For CD103, confident classification: 92.55 %\n",
      "For CD56, confident classification: 5.08 %\n",
      "For CD25, confident classification: 6.97 %\n",
      "For CD4, confident classification: 98.33 %\n",
      "For CD19, confident classification: 93.13 %\n",
      "For CD49a, confident classification: 92.57 %\n",
      "For FoxP3, confident classification: 11.9 %\n"
     ]
    }
   ],
   "source": [
    "gatename = 'CD3+'\n",
    "gmm_classify(gate,gatename)\n",
    "\n",
    "gatename = 'CD3+CD4+'\n",
    "gmm_classify(gate,gatename)\n",
    "\n",
    "gatename = 'CD3+CD8+'\n",
    "gmm_classify(gate,gatename)\n",
    "\n",
    "gatename = 'CD3-'\n",
    "gmm_classify(gate,gatename)"
   ]
  },
  {
   "cell_type": "markdown",
   "metadata": {},
   "source": [
    "## Louvain Clustering"
   ]
  },
  {
   "cell_type": "code",
   "execution_count": 17,
   "metadata": {},
   "outputs": [
    {
     "data": {
      "text/plain": [
       "AnnData object with n_obs × n_vars = 818476 × 11 \n",
       "    obs: 0\n",
       "    var: 0"
      ]
     },
     "execution_count": 17,
     "metadata": {},
     "output_type": "execute_result"
    }
   ],
   "source": [
    "import scanpy as sc\n",
    "import anndata\n",
    "import igraph\n",
    "d = d.iloc[:,:11]\n",
    "adata = anndata.AnnData(X=pd.DataFrame.to_numpy(d), obs=list(d.index.values), var=list(d.columns.values))\n",
    "adata"
   ]
  },
  {
   "cell_type": "code",
   "execution_count": null,
   "metadata": {},
   "outputs": [
    {
     "name": "stdout",
     "output_type": "stream",
     "text": [
      "Nearest neighbours...\n"
     ]
    },
    {
     "name": "stderr",
     "output_type": "stream",
     "text": [
      "C:\\Users\\adity\\Anaconda3\\lib\\site-packages\\numba\\compiler.py:588: NumbaPerformanceWarning: \u001b[1m\n",
      "The keyword argument 'parallel=True' was specified but no transformation for parallel execution was possible.\n",
      "\n",
      "To find out why, try turning on parallel diagnostics, see http://numba.pydata.org/numba-doc/latest/user/parallel.html#diagnostics for help.\n",
      "\u001b[1m\n",
      "File \"..\\..\\..\\..\\Anaconda3\\lib\\site-packages\\umap\\nndescent.py\", line 47:\u001b[0m\n",
      "\u001b[1m    @numba.njit(parallel=True)\n",
      "\u001b[1m    def nn_descent(\n",
      "\u001b[0m    \u001b[1m^\u001b[0m\u001b[0m\n",
      "\u001b[0m\n",
      "  self.func_ir.loc))\n"
     ]
    },
    {
     "name": "stdout",
     "output_type": "stream",
     "text": [
      "DONE: 916.7458536624908 s\n",
      "Louvain clustering...\n"
     ]
    }
   ],
   "source": [
    "print(\"Nearest neighbours...\")\n",
    "start = time.time()\n",
    "sc.pp.neighbors(adata, n_neighbors=65)\n",
    "print(\"DONE: {} s\".format(time.time()-start))\n",
    "print(\"Louvain clustering...\")\n",
    "mid = time.time()\n",
    "sc.tl.louvain(adata, resolution=0.1)\n",
    "print(\"DONE: {} s\".format(time.time()-mid))\n",
    "print(\"Number of clusters: \",max(np.array(adata.obs['louvain']).astype(int)+1))\n",
    "d['cluster']=np.array(adata.obs['louvain']).astype(int)+1\n",
    "d.to_csv(\"temp.csv\", index=False)"
   ]
  }
 ],
 "metadata": {
  "kernelspec": {
   "display_name": "Python 3",
   "language": "python",
   "name": "python3"
  },
  "language_info": {
   "codemirror_mode": {
    "name": "ipython",
    "version": 3
   },
   "file_extension": ".py",
   "mimetype": "text/x-python",
   "name": "python",
   "nbconvert_exporter": "python",
   "pygments_lexer": "ipython3",
   "version": "3.7.3"
  }
 },
 "nbformat": 4,
 "nbformat_minor": 2
}
