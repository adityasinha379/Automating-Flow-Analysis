{
 "cells": [
  {
   "cell_type": "code",
   "execution_count": 8,
   "metadata": {
    "scrolled": false
   },
   "outputs": [
    {
     "data": {
      "text/html": [
       "<div>\n",
       "<style scoped>\n",
       "    .dataframe tbody tr th:only-of-type {\n",
       "        vertical-align: middle;\n",
       "    }\n",
       "\n",
       "    .dataframe tbody tr th {\n",
       "        vertical-align: top;\n",
       "    }\n",
       "\n",
       "    .dataframe thead th {\n",
       "        text-align: right;\n",
       "    }\n",
       "</style>\n",
       "<table border=\"1\" class=\"dataframe\">\n",
       "  <thead>\n",
       "    <tr style=\"text-align: right;\">\n",
       "      <th></th>\n",
       "      <th>KIR2D3D</th>\n",
       "      <th>GzmA</th>\n",
       "      <th>GzmB</th>\n",
       "      <th>CD8a</th>\n",
       "      <th>NKG2A</th>\n",
       "      <th>CD56</th>\n",
       "      <th>TCRab</th>\n",
       "      <th>CD4</th>\n",
       "      <th>CD49a</th>\n",
       "      <th>TCRgd</th>\n",
       "      <th>CD16</th>\n",
       "    </tr>\n",
       "  </thead>\n",
       "  <tbody>\n",
       "    <tr>\n",
       "      <th>0</th>\n",
       "      <td>0.980437</td>\n",
       "      <td>1.621214</td>\n",
       "      <td>2.148436</td>\n",
       "      <td>0.316989</td>\n",
       "      <td>1.187266</td>\n",
       "      <td>1.707698</td>\n",
       "      <td>1.364155</td>\n",
       "      <td>0.931865</td>\n",
       "      <td>1.162957</td>\n",
       "      <td>1.471521</td>\n",
       "      <td>3.411192</td>\n",
       "    </tr>\n",
       "    <tr>\n",
       "      <th>1</th>\n",
       "      <td>0.961491</td>\n",
       "      <td>1.148317</td>\n",
       "      <td>0.856741</td>\n",
       "      <td>2.675781</td>\n",
       "      <td>0.157250</td>\n",
       "      <td>1.084384</td>\n",
       "      <td>2.866326</td>\n",
       "      <td>1.077428</td>\n",
       "      <td>0.992072</td>\n",
       "      <td>1.281130</td>\n",
       "      <td>1.186249</td>\n",
       "    </tr>\n",
       "    <tr>\n",
       "      <th>2</th>\n",
       "      <td>1.222621</td>\n",
       "      <td>1.074805</td>\n",
       "      <td>2.663246</td>\n",
       "      <td>0.714462</td>\n",
       "      <td>0.157038</td>\n",
       "      <td>2.611393</td>\n",
       "      <td>1.022361</td>\n",
       "      <td>1.012707</td>\n",
       "      <td>1.094651</td>\n",
       "      <td>1.228443</td>\n",
       "      <td>2.700451</td>\n",
       "    </tr>\n",
       "    <tr>\n",
       "      <th>3</th>\n",
       "      <td>0.871596</td>\n",
       "      <td>0.991589</td>\n",
       "      <td>1.990490</td>\n",
       "      <td>0.809779</td>\n",
       "      <td>1.381751</td>\n",
       "      <td>1.146624</td>\n",
       "      <td>1.305175</td>\n",
       "      <td>1.023536</td>\n",
       "      <td>1.058782</td>\n",
       "      <td>1.568413</td>\n",
       "      <td>3.310955</td>\n",
       "    </tr>\n",
       "    <tr>\n",
       "      <th>4</th>\n",
       "      <td>0.875841</td>\n",
       "      <td>1.022121</td>\n",
       "      <td>0.620908</td>\n",
       "      <td>2.548921</td>\n",
       "      <td>0.157156</td>\n",
       "      <td>0.819308</td>\n",
       "      <td>2.817657</td>\n",
       "      <td>1.004870</td>\n",
       "      <td>1.087523</td>\n",
       "      <td>1.966652</td>\n",
       "      <td>1.154374</td>\n",
       "    </tr>\n",
       "  </tbody>\n",
       "</table>\n",
       "</div>"
      ],
      "text/plain": [
       "    KIR2D3D      GzmA      GzmB      CD8a     NKG2A      CD56     TCRab  \\\n",
       "0  0.980437  1.621214  2.148436  0.316989  1.187266  1.707698  1.364155   \n",
       "1  0.961491  1.148317  0.856741  2.675781  0.157250  1.084384  2.866326   \n",
       "2  1.222621  1.074805  2.663246  0.714462  0.157038  2.611393  1.022361   \n",
       "3  0.871596  0.991589  1.990490  0.809779  1.381751  1.146624  1.305175   \n",
       "4  0.875841  1.022121  0.620908  2.548921  0.157156  0.819308  2.817657   \n",
       "\n",
       "        CD4     CD49a     TCRgd      CD16  \n",
       "0  0.931865  1.162957  1.471521  3.411192  \n",
       "1  1.077428  0.992072  1.281130  1.186249  \n",
       "2  1.012707  1.094651  1.228443  2.700451  \n",
       "3  1.023536  1.058782  1.568413  3.310955  \n",
       "4  1.004870  1.087523  1.966652  1.154374  "
      ]
     },
     "execution_count": 8,
     "metadata": {},
     "output_type": "execute_result"
    }
   ],
   "source": [
    "import numpy as np\n",
    "import pandas as pd\n",
    "import time\n",
    "\n",
    "d = pd.read_csv(\"temp.csv\")\n",
    "d.head()"
   ]
  },
  {
   "cell_type": "code",
   "execution_count": 9,
   "metadata": {},
   "outputs": [
    {
     "data": {
      "text/plain": [
       "AnnData object with n_obs × n_vars = 264380 × 11 \n",
       "    obs: 0\n",
       "    var: 0"
      ]
     },
     "execution_count": 9,
     "metadata": {},
     "output_type": "execute_result"
    }
   ],
   "source": [
    "import scanpy as sc\n",
    "import anndata\n",
    "import igraph\n",
    "d = d.loc[:,:'CD16']\n",
    "adata = anndata.AnnData(X=pd.DataFrame.to_numpy(d), obs=list(d.index.values), var=list(d.columns.values))\n",
    "adata"
   ]
  },
  {
   "cell_type": "code",
   "execution_count": 11,
   "metadata": {},
   "outputs": [
    {
     "name": "stdout",
     "output_type": "stream",
     "text": [
      "Nearest neighbours...\n"
     ]
    },
    {
     "name": "stderr",
     "output_type": "stream",
     "text": [
      "/Users/aditya/anaconda3/lib/python3.7/site-packages/numba/compiler.py:588: NumbaPerformanceWarning: \u001b[1m\n",
      "The keyword argument 'parallel=True' was specified but no transformation for parallel execution was possible.\n",
      "\n",
      "To find out why, try turning on parallel diagnostics, see http://numba.pydata.org/numba-doc/latest/user/parallel.html#diagnostics for help.\n",
      "\u001b[1m\n",
      "File \"../../anaconda3/lib/python3.7/site-packages/umap/nndescent.py\", line 47:\u001b[0m\n",
      "\u001b[1m    @numba.njit(parallel=True)\n",
      "\u001b[1m    def nn_descent(\n",
      "\u001b[0m    \u001b[1m^\u001b[0m\u001b[0m\n",
      "\u001b[0m\n",
      "  self.func_ir.loc))\n"
     ]
    },
    {
     "name": "stdout",
     "output_type": "stream",
     "text": [
      "DONE: 147.9083812236786 s\n",
      "Louvain clustering...\n",
      "DONE: 382.1721398830414 s\n",
      "Number of clusters:  7\n"
     ]
    }
   ],
   "source": [
    "print(\"Nearest neighbours...\")\n",
    "start = time.time()\n",
    "sc.pp.neighbors(adata, n_neighbors=40)\n",
    "print(\"DONE: {} s\".format(time.time()-start))\n",
    "print(\"Louvain clustering...\")\n",
    "mid = time.time()\n",
    "sc.tl.louvain(adata, resolution=0.2)\n",
    "print(\"DONE: {} s\".format(time.time()-mid))\n",
    "print(\"Number of clusters: \",max(np.array(adata.obs['louvain']).astype(int)+1))\n",
    "d['cluster']=np.array(adata.obs['louvain']).astype(int)+1\n",
    "d.to_csv(\"temp.csv\", index=False)"
   ]
  }
 ],
 "metadata": {
  "kernelspec": {
   "display_name": "Python 3",
   "language": "python",
   "name": "python3"
  },
  "language_info": {
   "codemirror_mode": {
    "name": "ipython",
    "version": 3
   },
   "file_extension": ".py",
   "mimetype": "text/x-python",
   "name": "python",
   "nbconvert_exporter": "python",
   "pygments_lexer": "ipython3",
   "version": "3.7.3"
  }
 },
 "nbformat": 4,
 "nbformat_minor": 2
}
