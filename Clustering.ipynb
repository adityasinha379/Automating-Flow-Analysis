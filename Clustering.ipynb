{
 "cells": [
  {
   "cell_type": "code",
   "execution_count": 20,
   "metadata": {
    "scrolled": true
   },
   "outputs": [
    {
     "data": {
      "text/html": [
       "<div>\n",
       "<style scoped>\n",
       "    .dataframe tbody tr th:only-of-type {\n",
       "        vertical-align: middle;\n",
       "    }\n",
       "\n",
       "    .dataframe tbody tr th {\n",
       "        vertical-align: top;\n",
       "    }\n",
       "\n",
       "    .dataframe thead th {\n",
       "        text-align: right;\n",
       "    }\n",
       "</style>\n",
       "<table border=\"1\" class=\"dataframe\">\n",
       "  <thead>\n",
       "    <tr style=\"text-align: right;\">\n",
       "      <th></th>\n",
       "      <th>KIR2D3D</th>\n",
       "      <th>GzmA</th>\n",
       "      <th>GzmB</th>\n",
       "      <th>CD8a</th>\n",
       "      <th>NKG2A</th>\n",
       "      <th>CD56</th>\n",
       "      <th>TCRab</th>\n",
       "      <th>CD4</th>\n",
       "      <th>CD49a</th>\n",
       "      <th>CD103</th>\n",
       "      <th>CD16</th>\n",
       "    </tr>\n",
       "  </thead>\n",
       "  <tbody>\n",
       "    <tr>\n",
       "      <th>0</th>\n",
       "      <td>0.347520</td>\n",
       "      <td>2.248825</td>\n",
       "      <td>3.192268</td>\n",
       "      <td>0.550326</td>\n",
       "      <td>1.182181</td>\n",
       "      <td>1.557233</td>\n",
       "      <td>0.834536</td>\n",
       "      <td>0.981103</td>\n",
       "      <td>0.674518</td>\n",
       "      <td>1.141513</td>\n",
       "      <td>1.780492</td>\n",
       "    </tr>\n",
       "    <tr>\n",
       "      <th>1</th>\n",
       "      <td>1.354591</td>\n",
       "      <td>1.402431</td>\n",
       "      <td>0.994343</td>\n",
       "      <td>0.671340</td>\n",
       "      <td>1.194370</td>\n",
       "      <td>0.834852</td>\n",
       "      <td>0.975920</td>\n",
       "      <td>2.413024</td>\n",
       "      <td>1.475009</td>\n",
       "      <td>1.071760</td>\n",
       "      <td>0.932460</td>\n",
       "    </tr>\n",
       "    <tr>\n",
       "      <th>2</th>\n",
       "      <td>1.162129</td>\n",
       "      <td>0.797331</td>\n",
       "      <td>1.129649</td>\n",
       "      <td>0.595469</td>\n",
       "      <td>1.432608</td>\n",
       "      <td>0.673240</td>\n",
       "      <td>2.251479</td>\n",
       "      <td>2.310711</td>\n",
       "      <td>0.716634</td>\n",
       "      <td>0.848580</td>\n",
       "      <td>0.835219</td>\n",
       "    </tr>\n",
       "    <tr>\n",
       "      <th>3</th>\n",
       "      <td>0.505488</td>\n",
       "      <td>1.009671</td>\n",
       "      <td>0.931337</td>\n",
       "      <td>0.680922</td>\n",
       "      <td>1.166595</td>\n",
       "      <td>0.905019</td>\n",
       "      <td>1.698317</td>\n",
       "      <td>2.387158</td>\n",
       "      <td>1.668309</td>\n",
       "      <td>1.171005</td>\n",
       "      <td>0.752149</td>\n",
       "    </tr>\n",
       "    <tr>\n",
       "      <th>4</th>\n",
       "      <td>1.477766</td>\n",
       "      <td>0.772016</td>\n",
       "      <td>1.073770</td>\n",
       "      <td>0.458368</td>\n",
       "      <td>1.374335</td>\n",
       "      <td>0.795902</td>\n",
       "      <td>2.098206</td>\n",
       "      <td>2.235695</td>\n",
       "      <td>0.608443</td>\n",
       "      <td>0.855407</td>\n",
       "      <td>0.731284</td>\n",
       "    </tr>\n",
       "  </tbody>\n",
       "</table>\n",
       "</div>"
      ],
      "text/plain": [
       "    KIR2D3D      GzmA      GzmB      CD8a     NKG2A      CD56     TCRab  \\\n",
       "0  0.347520  2.248825  3.192268  0.550326  1.182181  1.557233  0.834536   \n",
       "1  1.354591  1.402431  0.994343  0.671340  1.194370  0.834852  0.975920   \n",
       "2  1.162129  0.797331  1.129649  0.595469  1.432608  0.673240  2.251479   \n",
       "3  0.505488  1.009671  0.931337  0.680922  1.166595  0.905019  1.698317   \n",
       "4  1.477766  0.772016  1.073770  0.458368  1.374335  0.795902  2.098206   \n",
       "\n",
       "        CD4     CD49a     CD103      CD16  \n",
       "0  0.981103  0.674518  1.141513  1.780492  \n",
       "1  2.413024  1.475009  1.071760  0.932460  \n",
       "2  2.310711  0.716634  0.848580  0.835219  \n",
       "3  2.387158  1.668309  1.171005  0.752149  \n",
       "4  2.235695  0.608443  0.855407  0.731284  "
      ]
     },
     "execution_count": 20,
     "metadata": {},
     "output_type": "execute_result"
    }
   ],
   "source": [
    "import numpy as np\n",
    "import pandas as pd\n",
    "import time\n",
    "\n",
    "d = pd.read_csv(\"temp.csv\")\n",
    "d.head()"
   ]
  },
  {
   "cell_type": "code",
   "execution_count": 21,
   "metadata": {},
   "outputs": [
    {
     "data": {
      "text/plain": [
       "AnnData object with n_obs × n_vars = 5653 × 11 \n",
       "    obs: 0\n",
       "    var: 0"
      ]
     },
     "execution_count": 21,
     "metadata": {},
     "output_type": "execute_result"
    }
   ],
   "source": [
    "import scanpy as sc\n",
    "import anndata\n",
    "import igraph\n",
    "d = d.loc[:,:'CD16']\n",
    "adata = anndata.AnnData(X=pd.DataFrame.to_numpy(d), obs=list(d.index.values), var=list(d.columns.values))\n",
    "adata"
   ]
  },
  {
   "cell_type": "code",
   "execution_count": 28,
   "metadata": {},
   "outputs": [
    {
     "name": "stdout",
     "output_type": "stream",
     "text": [
      "Nearest neighbours...\n",
      "DONE: 1.4652667045593262 s\n",
      "Louvain clustering...\n",
      "DONE: 1.5111379623413086 s\n",
      "Number of clusters:  5\n"
     ]
    }
   ],
   "source": [
    "print(\"Nearest neighbours...\")\n",
    "start = time.time()\n",
    "sc.pp.neighbors(adata, n_neighbors=20)\n",
    "print(\"DONE: {} s\".format(time.time()-start))\n",
    "print(\"Louvain clustering...\")\n",
    "mid = time.time()\n",
    "sc.tl.louvain(adata, resolution=0.2)\n",
    "print(\"DONE: {} s\".format(time.time()-mid))\n",
    "print(\"Number of clusters: \",max(np.array(adata.obs['louvain']).astype(int)+1))\n",
    "d['cluster']=np.array(adata.obs['louvain']).astype(int)+1\n",
    "d.to_csv(\"temp.csv\", index=False)"
   ]
  }
 ],
 "metadata": {
  "kernelspec": {
   "display_name": "Python 3",
   "language": "python",
   "name": "python3"
  },
  "language_info": {
   "codemirror_mode": {
    "name": "ipython",
    "version": 3
   },
   "file_extension": ".py",
   "mimetype": "text/x-python",
   "name": "python",
   "nbconvert_exporter": "python",
   "pygments_lexer": "ipython3",
   "version": "3.7.3"
  }
 },
 "nbformat": 4,
 "nbformat_minor": 2
}
